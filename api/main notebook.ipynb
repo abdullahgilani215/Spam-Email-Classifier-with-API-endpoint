{
 "cells": [
  {
   "cell_type": "code",
   "execution_count": 5,
   "id": "e4631dfb-da37-4292-a42e-51679af0a665",
   "metadata": {},
   "outputs": [],
   "source": [
    "import joblib\n",
    "from fastapi import FastAPI\n",
    "from pydantic import BaseModel\n",
    "\n",
    "app = FastAPI()\n",
    "model = joblib.load(\"model.pkl\")\n",
    "vectorizer = joblib.load(\"vectorizer.pkl\")\n",
    "\n",
    "class Email(BaseModel):\n",
    "    text:str\n",
    "@app.get(\"/\")\n",
    "def index():\n",
    "    return{\"message\":\"Spam Email Classifier API is running\"}\n",
    "\n",
    "@app.post(\"/predict\")\n",
    "def predict(email:Email):\n",
    "    email_features = vectorizer.transform(Email)\n",
    "    prediction = model.predict(email_features)[0]\n",
    "    label = \"spam\" if prediction == 0 else \"not spam\"\n",
    "    return {\"prediction\":label}\n"
   ]
  },
  {
   "cell_type": "code",
   "execution_count": null,
   "id": "fc7444c4-e8d6-45b2-96bb-a2a32e3e4994",
   "metadata": {},
   "outputs": [],
   "source": []
  }
 ],
 "metadata": {
  "kernelspec": {
   "display_name": "Python 3 (ipykernel)",
   "language": "python",
   "name": "python3"
  },
  "language_info": {
   "codemirror_mode": {
    "name": "ipython",
    "version": 3
   },
   "file_extension": ".py",
   "mimetype": "text/x-python",
   "name": "python",
   "nbconvert_exporter": "python",
   "pygments_lexer": "ipython3",
   "version": "3.13.5"
  }
 },
 "nbformat": 4,
 "nbformat_minor": 5
}
